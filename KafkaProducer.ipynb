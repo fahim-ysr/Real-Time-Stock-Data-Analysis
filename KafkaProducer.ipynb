{
 "cells": [
  {
   "cell_type": "code",
   "execution_count": 1,
   "id": "854a9b39-2431-4825-a440-fa4bee08b84f",
   "metadata": {},
   "outputs": [],
   "source": [
    "# Importing all dependencies\n",
    "\n",
    "from kafka import KafkaProducer\n",
    "import pandas as pd\n",
    "import json\n",
    "from json import dumps\n",
    "from time import sleep"
   ]
  },
  {
   "cell_type": "code",
   "execution_count": 3,
   "id": "5d2e948b-c661-4450-8d21-1a8c7d82cb19",
   "metadata": {},
   "outputs": [],
   "source": [
    "# Setting up producer\n",
    "\n",
    "producer = KafkaProducer(\n",
    "    bootstrap_servers= [\"3.96.192.213:9092\"],\n",
    "    # Setting up serializer for sending data into proper format\n",
    "    value_serializer = lambda x:\n",
    "    dumps(x).encode(\"utf-8\")\n",
    ")"
   ]
  },
  {
   "cell_type": "code",
   "execution_count": 5,
   "id": "75d77b89-b439-441b-a0b9-b25240f48975",
   "metadata": {},
   "outputs": [
    {
     "data": {
      "text/plain": [
       "<kafka.producer.future.FutureRecordMetadata at 0x79b1b122fe30>"
      ]
     },
     "execution_count": 5,
     "metadata": {},
     "output_type": "execute_result"
    }
   ],
   "source": [
    "# Testing to check if consumer shell is displaying the data\n",
    "\n",
    "producer.send(\"demo_testing2\", value= \"{'keys': 'values'}\")"
   ]
  },
  {
   "cell_type": "code",
   "execution_count": 6,
   "id": "d793eb93-8489-40a1-921d-f1ac18bad3a0",
   "metadata": {},
   "outputs": [
    {
     "data": {
      "text/plain": [
       "<kafka.producer.future.FutureRecordMetadata at 0x79b1b107ffb0>"
      ]
     },
     "execution_count": 6,
     "metadata": {},
     "output_type": "execute_result"
    }
   ],
   "source": [
    "# Testing to check if consumer shell is displaying the data\n",
    "\n",
    "producer.send(\"demo_testing2\", value= \"{'Hello': 'World'}\")"
   ]
  },
  {
   "cell_type": "code",
   "execution_count": null,
   "id": "fe34bf2e-c7d2-43d2-9774-180576c9c130",
   "metadata": {},
   "outputs": [],
   "source": []
  }
 ],
 "metadata": {
  "kernelspec": {
   "display_name": "kafka-data-analysis",
   "language": "python",
   "name": "env"
  },
  "language_info": {
   "codemirror_mode": {
    "name": "ipython",
    "version": 3
   },
   "file_extension": ".py",
   "mimetype": "text/x-python",
   "name": "python",
   "nbconvert_exporter": "python",
   "pygments_lexer": "ipython3",
   "version": "3.12.3"
  }
 },
 "nbformat": 4,
 "nbformat_minor": 5
}
