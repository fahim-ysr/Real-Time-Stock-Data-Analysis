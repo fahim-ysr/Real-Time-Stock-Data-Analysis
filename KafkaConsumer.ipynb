{
 "cells": [
  {
   "cell_type": "code",
   "execution_count": 1,
   "id": "d825afe1-e0d1-459a-82d8-6af0ffa5cf64",
   "metadata": {},
   "outputs": [],
   "source": [
    "# Importing all dependencies\n",
    "\n",
    "# Importing Apache Kafka\n",
    "from kafka import KafkaConsumer\n",
    "\n",
    "import pandas as pd\n",
    "import json\n",
    "from json import dumps, loads\n",
    "from time import sleep\n",
    "\n",
    "# Importing AWS S3\n",
    "from s3fs import S3FileSystem"
   ]
  },
  {
   "cell_type": "code",
   "execution_count": 2,
   "id": "ba1e2ceb-d438-476f-829b-87938ce48cf2",
   "metadata": {},
   "outputs": [
    {
     "ename": "NoBrokersAvailable",
     "evalue": "NoBrokersAvailable",
     "output_type": "error",
     "traceback": [
      "\u001b[31m---------------------------------------------------------------------------\u001b[39m",
      "\u001b[31mNoBrokersAvailable\u001b[39m                        Traceback (most recent call last)",
      "\u001b[36mCell\u001b[39m\u001b[36m \u001b[39m\u001b[32mIn[2]\u001b[39m\u001b[32m, line 3\u001b[39m\n\u001b[32m      1\u001b[39m \u001b[38;5;66;03m# Setting up consumer\u001b[39;00m\n\u001b[32m----> \u001b[39m\u001b[32m3\u001b[39m consumer = \u001b[43mKafkaConsumer\u001b[49m\u001b[43m(\u001b[49m\n\u001b[32m      4\u001b[39m \u001b[43m    \u001b[49m\u001b[33;43m'\u001b[39;49m\u001b[33;43mdemo_testing2\u001b[39;49m\u001b[33;43m'\u001b[39;49m\u001b[43m,\u001b[49m\n\u001b[32m      5\u001b[39m \u001b[43m    \u001b[49m\u001b[43mbootstrap_servers\u001b[49m\u001b[43m=\u001b[49m\u001b[43m \u001b[49m\u001b[43m[\u001b[49m\u001b[33;43m\"\u001b[39;49m\u001b[33;43m3.96.150.180:9092\u001b[39;49m\u001b[33;43m\"\u001b[39;49m\u001b[43m]\u001b[49m\u001b[43m,\u001b[49m\n\u001b[32m      6\u001b[39m \u001b[43m    \u001b[49m\u001b[38;5;66;43;03m# Setting up deserializer for loading data in proper format\u001b[39;49;00m\n\u001b[32m      7\u001b[39m \u001b[43m    \u001b[49m\u001b[43mvalue_deserializer\u001b[49m\u001b[43m \u001b[49m\u001b[43m=\u001b[49m\u001b[43m \u001b[49m\u001b[38;5;28;43;01mlambda\u001b[39;49;00m\u001b[43m \u001b[49m\u001b[43mx\u001b[49m\u001b[43m:\u001b[49m\u001b[43m \u001b[49m\u001b[43mloads\u001b[49m\u001b[43m(\u001b[49m\u001b[43mx\u001b[49m\u001b[43m.\u001b[49m\u001b[43mdecode\u001b[49m\u001b[43m(\u001b[49m\u001b[33;43m'\u001b[39;49m\u001b[33;43mutf-8\u001b[39;49m\u001b[33;43m'\u001b[39;49m\u001b[43m)\u001b[49m\u001b[43m)\u001b[49m\n\u001b[32m      8\u001b[39m \u001b[43m)\u001b[49m\n",
      "\u001b[36mFile \u001b[39m\u001b[32m~/Documents/Real-Time-Stock-Data-Analysis/env/lib/python3.12/site-packages/kafka/consumer/group.py:387\u001b[39m, in \u001b[36mKafkaConsumer.__init__\u001b[39m\u001b[34m(self, *topics, **configs)\u001b[39m\n\u001b[32m    383\u001b[39m         \u001b[38;5;28mself\u001b[39m.config[\u001b[33m'\u001b[39m\u001b[33mapi_version\u001b[39m\u001b[33m'\u001b[39m] = \u001b[38;5;28mtuple\u001b[39m(\u001b[38;5;28mmap\u001b[39m(\u001b[38;5;28mint\u001b[39m, str_version.split(\u001b[33m'\u001b[39m\u001b[33m.\u001b[39m\u001b[33m'\u001b[39m)))\n\u001b[32m    384\u001b[39m     log.warning(\u001b[33m'\u001b[39m\u001b[33muse api_version=\u001b[39m\u001b[38;5;132;01m%s\u001b[39;00m\u001b[33m [tuple] -- \u001b[39m\u001b[33m\"\u001b[39m\u001b[38;5;132;01m%s\u001b[39;00m\u001b[33m\"\u001b[39m\u001b[33m as str is deprecated\u001b[39m\u001b[33m'\u001b[39m,\n\u001b[32m    385\u001b[39m                 \u001b[38;5;28mstr\u001b[39m(\u001b[38;5;28mself\u001b[39m.config[\u001b[33m'\u001b[39m\u001b[33mapi_version\u001b[39m\u001b[33m'\u001b[39m]), str_version)\n\u001b[32m--> \u001b[39m\u001b[32m387\u001b[39m \u001b[38;5;28mself\u001b[39m._client = \u001b[38;5;28;43mself\u001b[39;49m\u001b[43m.\u001b[49m\u001b[43mconfig\u001b[49m\u001b[43m[\u001b[49m\u001b[33;43m'\u001b[39;49m\u001b[33;43mkafka_client\u001b[39;49m\u001b[33;43m'\u001b[39;49m\u001b[43m]\u001b[49m\u001b[43m(\u001b[49m\u001b[43mmetrics\u001b[49m\u001b[43m=\u001b[49m\u001b[38;5;28;43mself\u001b[39;49m\u001b[43m.\u001b[49m\u001b[43m_metrics\u001b[49m\u001b[43m,\u001b[49m\u001b[43m \u001b[49m\u001b[43m*\u001b[49m\u001b[43m*\u001b[49m\u001b[38;5;28;43mself\u001b[39;49m\u001b[43m.\u001b[49m\u001b[43mconfig\u001b[49m\u001b[43m)\u001b[49m\n\u001b[32m    389\u001b[39m \u001b[38;5;66;03m# Get auto-discovered / normalized version from client\u001b[39;00m\n\u001b[32m    390\u001b[39m \u001b[38;5;28mself\u001b[39m.config[\u001b[33m'\u001b[39m\u001b[33mapi_version\u001b[39m\u001b[33m'\u001b[39m] = \u001b[38;5;28mself\u001b[39m._client.config[\u001b[33m'\u001b[39m\u001b[33mapi_version\u001b[39m\u001b[33m'\u001b[39m]\n",
      "\u001b[36mFile \u001b[39m\u001b[32m~/Documents/Real-Time-Stock-Data-Analysis/env/lib/python3.12/site-packages/kafka/client_async.py:262\u001b[39m, in \u001b[36mKafkaClient.__init__\u001b[39m\u001b[34m(self, **configs)\u001b[39m\n\u001b[32m    260\u001b[39m \u001b[38;5;66;03m# Check Broker Version if not set explicitly\u001b[39;00m\n\u001b[32m    261\u001b[39m \u001b[38;5;28;01mif\u001b[39;00m \u001b[38;5;28mself\u001b[39m.config[\u001b[33m'\u001b[39m\u001b[33mapi_version\u001b[39m\u001b[33m'\u001b[39m] \u001b[38;5;129;01mis\u001b[39;00m \u001b[38;5;28;01mNone\u001b[39;00m:\n\u001b[32m--> \u001b[39m\u001b[32m262\u001b[39m     \u001b[38;5;28mself\u001b[39m.config[\u001b[33m'\u001b[39m\u001b[33mapi_version\u001b[39m\u001b[33m'\u001b[39m] = \u001b[38;5;28;43mself\u001b[39;49m\u001b[43m.\u001b[49m\u001b[43mcheck_version\u001b[49m\u001b[43m(\u001b[49m\u001b[43m)\u001b[49m\n\u001b[32m    263\u001b[39m \u001b[38;5;28;01melif\u001b[39;00m \u001b[38;5;28mself\u001b[39m.config[\u001b[33m'\u001b[39m\u001b[33mapi_version\u001b[39m\u001b[33m'\u001b[39m] \u001b[38;5;129;01min\u001b[39;00m BROKER_API_VERSIONS:\n\u001b[32m    264\u001b[39m     \u001b[38;5;28mself\u001b[39m._api_versions = BROKER_API_VERSIONS[\u001b[38;5;28mself\u001b[39m.config[\u001b[33m'\u001b[39m\u001b[33mapi_version\u001b[39m\u001b[33m'\u001b[39m]]\n",
      "\u001b[36mFile \u001b[39m\u001b[32m~/Documents/Real-Time-Stock-Data-Analysis/env/lib/python3.12/site-packages/kafka/client_async.py:1074\u001b[39m, in \u001b[36mKafkaClient.check_version\u001b[39m\u001b[34m(self, node_id, timeout, **kwargs)\u001b[39m\n\u001b[32m   1072\u001b[39m     \u001b[38;5;28;01mraise\u001b[39;00m Errors.NodeNotReadyError(node_id)\n\u001b[32m   1073\u001b[39m \u001b[38;5;28;01melse\u001b[39;00m:\n\u001b[32m-> \u001b[39m\u001b[32m1074\u001b[39m     \u001b[38;5;28;01mraise\u001b[39;00m Errors.NoBrokersAvailable()\n",
      "\u001b[31mNoBrokersAvailable\u001b[39m: NoBrokersAvailable"
     ]
    }
   ],
   "source": [
    "# Setting up consumer\n",
    "\n",
    "consumer = KafkaConsumer(\n",
    "    'demo_testing2',\n",
    "    bootstrap_servers= [\"3.96.150.180:9092\"],\n",
    "    # Setting up deserializer for loading data in proper format\n",
    "    value_deserializer = lambda x: loads(x.decode('utf-8'))\n",
    ")"
   ]
  },
  {
   "cell_type": "code",
   "execution_count": null,
   "id": "d3a8cfe0-8e32-43c8-825c-960c5916be44",
   "metadata": {
    "scrolled": true
   },
   "outputs": [],
   "source": [
    "# for d in consumer:\n",
    "#     print(d.value)"
   ]
  },
  {
   "cell_type": "code",
   "execution_count": null,
   "id": "3500e851-62f1-447b-b8b6-cb546f450a7d",
   "metadata": {},
   "outputs": [],
   "source": [
    "# Initializing the S3 object\n",
    "\n",
    "s3 = S3FileSystem()"
   ]
  },
  {
   "cell_type": "code",
   "execution_count": null,
   "id": "779be8b4-a416-431e-9acc-4ff6996d7761",
   "metadata": {},
   "outputs": [],
   "source": [
    "# Iterating over the data\n",
    "\n",
    "for count, d in enumerate(consumer):\n",
    "    with s3.open(\"s3://kafka-stock-data-analysis-fyasir/stock_market_{}.json\".format(count), \"w\") as file:\n",
    "        json.dump(d.value, file)"
   ]
  },
  {
   "cell_type": "code",
   "execution_count": null,
   "id": "caaa979f-8574-4388-8dbd-285eb3ba42c3",
   "metadata": {},
   "outputs": [],
   "source": []
  }
 ],
 "metadata": {
  "kernelspec": {
   "display_name": "kafka-data-analysis",
   "language": "python",
   "name": "env"
  },
  "language_info": {
   "codemirror_mode": {
    "name": "ipython",
    "version": 3
   },
   "file_extension": ".py",
   "mimetype": "text/x-python",
   "name": "python",
   "nbconvert_exporter": "python",
   "pygments_lexer": "ipython3",
   "version": "3.12.3"
  }
 },
 "nbformat": 4,
 "nbformat_minor": 5
}
