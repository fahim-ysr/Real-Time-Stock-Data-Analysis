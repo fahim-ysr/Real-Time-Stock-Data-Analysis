{
 "cells": [
  {
   "cell_type": "code",
   "execution_count": 1,
   "id": "d825afe1-e0d1-459a-82d8-6af0ffa5cf64",
   "metadata": {},
   "outputs": [],
   "source": [
    "# Importing all dependencies\n",
    "\n",
    "# Importing Apache Kafka\n",
    "from kafka import KafkaConsumer\n",
    "\n",
    "import pandas as pd\n",
    "import json\n",
    "from json import dumps, loads\n",
    "from time import sleep\n",
    "\n",
    "# Importing AWS S3\n",
    "from s3fs import S3FileSystem"
   ]
  },
  {
   "cell_type": "code",
   "execution_count": 2,
   "id": "ba1e2ceb-d438-476f-829b-87938ce48cf2",
   "metadata": {},
   "outputs": [],
   "source": [
    "# Setting up consumer\n",
    "\n",
    "consumer = KafkaConsumer(\n",
    "    'demo_testing2',\n",
    "    bootstrap_servers= [\"3.96.150.180:9092\"],\n",
    "    # Setting up deserializer for loading data in proper format\n",
    "    value_deserializer = lambda x: loads(x.decode('utf-8'))\n",
    ")"
   ]
  },
  {
   "cell_type": "code",
   "execution_count": 3,
   "id": "d3a8cfe0-8e32-43c8-825c-960c5916be44",
   "metadata": {
    "scrolled": true
   },
   "outputs": [],
   "source": [
    "# for d in consumer:\n",
    "#     print(d.value)"
   ]
  },
  {
   "cell_type": "code",
   "execution_count": 4,
   "id": "3500e851-62f1-447b-b8b6-cb546f450a7d",
   "metadata": {},
   "outputs": [],
   "source": [
    "# Initializing the S3 object\n",
    "\n",
    "s3 = S3FileSystem()"
   ]
  },
  {
   "cell_type": "code",
   "execution_count": 5,
   "id": "779be8b4-a416-431e-9acc-4ff6996d7761",
   "metadata": {},
   "outputs": [
    {
     "ename": "KeyboardInterrupt",
     "evalue": "",
     "output_type": "error",
     "traceback": [
      "\u001b[31m---------------------------------------------------------------------------\u001b[39m",
      "\u001b[31mKeyboardInterrupt\u001b[39m                         Traceback (most recent call last)",
      "\u001b[36mCell\u001b[39m\u001b[36m \u001b[39m\u001b[32mIn[5]\u001b[39m\u001b[32m, line 4\u001b[39m\n\u001b[32m      1\u001b[39m \u001b[38;5;66;03m# Iterating over the data\u001b[39;00m\n\u001b[32m      3\u001b[39m \u001b[38;5;28;01mfor\u001b[39;00m count, d \u001b[38;5;129;01min\u001b[39;00m \u001b[38;5;28menumerate\u001b[39m(consumer):\n\u001b[32m----> \u001b[39m\u001b[32m4\u001b[39m \u001b[43m    \u001b[49m\u001b[38;5;28;43;01mwith\u001b[39;49;00m\u001b[43m \u001b[49m\u001b[43ms3\u001b[49m\u001b[43m.\u001b[49m\u001b[43mopen\u001b[49m\u001b[43m(\u001b[49m\u001b[33;43m\"\u001b[39;49m\u001b[33;43ms3://kafka-stock-data-analysis-fyasir/stock_market_\u001b[39;49m\u001b[38;5;132;43;01m{}\u001b[39;49;00m\u001b[33;43m.json\u001b[39;49m\u001b[33;43m\"\u001b[39;49m\u001b[43m.\u001b[49m\u001b[43mformat\u001b[49m\u001b[43m(\u001b[49m\u001b[43mcount\u001b[49m\u001b[43m)\u001b[49m\u001b[43m,\u001b[49m\u001b[43m \u001b[49m\u001b[33;43m\"\u001b[39;49m\u001b[33;43mw\u001b[39;49m\u001b[33;43m\"\u001b[39;49m\u001b[43m)\u001b[49m\u001b[43m \u001b[49m\u001b[38;5;28;43;01mas\u001b[39;49;00m\u001b[43m \u001b[49m\u001b[43mfile\u001b[49m\u001b[43m:\u001b[49m\n\u001b[32m      5\u001b[39m \u001b[43m        \u001b[49m\u001b[43mjson\u001b[49m\u001b[43m.\u001b[49m\u001b[43mdump\u001b[49m\u001b[43m(\u001b[49m\u001b[43md\u001b[49m\u001b[43m.\u001b[49m\u001b[43mvalue\u001b[49m\u001b[43m,\u001b[49m\u001b[43m \u001b[49m\u001b[43mfile\u001b[49m\u001b[43m)\u001b[49m\n",
      "\u001b[36mFile \u001b[39m\u001b[32m~/Documents/Real-Time-Stock-Data-Analysis/env/lib/python3.12/site-packages/fsspec/spec.py:2206\u001b[39m, in \u001b[36mAbstractBufferedFile.close\u001b[39m\u001b[34m(self)\u001b[39m\n\u001b[32m   2204\u001b[39m \u001b[38;5;28;01melse\u001b[39;00m:\n\u001b[32m   2205\u001b[39m     \u001b[38;5;28;01mif\u001b[39;00m \u001b[38;5;129;01mnot\u001b[39;00m \u001b[38;5;28mself\u001b[39m.forced:\n\u001b[32m-> \u001b[39m\u001b[32m2206\u001b[39m         \u001b[38;5;28;43mself\u001b[39;49m\u001b[43m.\u001b[49m\u001b[43mflush\u001b[49m\u001b[43m(\u001b[49m\u001b[43mforce\u001b[49m\u001b[43m=\u001b[49m\u001b[38;5;28;43;01mTrue\u001b[39;49;00m\u001b[43m)\u001b[49m\n\u001b[32m   2208\u001b[39m     \u001b[38;5;28;01mif\u001b[39;00m \u001b[38;5;28mself\u001b[39m.fs \u001b[38;5;129;01mis\u001b[39;00m \u001b[38;5;129;01mnot\u001b[39;00m \u001b[38;5;28;01mNone\u001b[39;00m:\n\u001b[32m   2209\u001b[39m         \u001b[38;5;28mself\u001b[39m.fs.invalidate_cache(\u001b[38;5;28mself\u001b[39m.path)\n",
      "\u001b[36mFile \u001b[39m\u001b[32m~/Documents/Real-Time-Stock-Data-Analysis/env/lib/python3.12/site-packages/fsspec/spec.py:2069\u001b[39m, in \u001b[36mAbstractBufferedFile.flush\u001b[39m\u001b[34m(self, force)\u001b[39m\n\u001b[32m   2066\u001b[39m         \u001b[38;5;28mself\u001b[39m.closed = \u001b[38;5;28;01mTrue\u001b[39;00m\n\u001b[32m   2067\u001b[39m         \u001b[38;5;28;01mraise\u001b[39;00m\n\u001b[32m-> \u001b[39m\u001b[32m2069\u001b[39m \u001b[38;5;28;01mif\u001b[39;00m \u001b[38;5;28;43mself\u001b[39;49m\u001b[43m.\u001b[49m\u001b[43m_upload_chunk\u001b[49m\u001b[43m(\u001b[49m\u001b[43mfinal\u001b[49m\u001b[43m=\u001b[49m\u001b[43mforce\u001b[49m\u001b[43m)\u001b[49m \u001b[38;5;129;01mis\u001b[39;00m \u001b[38;5;129;01mnot\u001b[39;00m \u001b[38;5;28;01mFalse\u001b[39;00m:\n\u001b[32m   2070\u001b[39m     \u001b[38;5;28mself\u001b[39m.offset += \u001b[38;5;28mself\u001b[39m.buffer.seek(\u001b[32m0\u001b[39m, \u001b[32m2\u001b[39m)\n\u001b[32m   2071\u001b[39m     \u001b[38;5;28mself\u001b[39m.buffer = io.BytesIO()\n",
      "\u001b[36mFile \u001b[39m\u001b[32m~/Documents/Real-Time-Stock-Data-Analysis/env/lib/python3.12/site-packages/s3fs/core.py:2449\u001b[39m, in \u001b[36mS3File._upload_chunk\u001b[39m\u001b[34m(self, final)\u001b[39m\n\u001b[32m   2446\u001b[39m             upload_part(\u001b[38;5;28mself\u001b[39m.buffer.read(\u001b[38;5;28mself\u001b[39m.part_max))\n\u001b[32m   2448\u001b[39m \u001b[38;5;28;01mif\u001b[39;00m \u001b[38;5;28mself\u001b[39m.autocommit \u001b[38;5;129;01mand\u001b[39;00m final:\n\u001b[32m-> \u001b[39m\u001b[32m2449\u001b[39m     \u001b[38;5;28;43mself\u001b[39;49m\u001b[43m.\u001b[49m\u001b[43mcommit\u001b[49m\u001b[43m(\u001b[49m\u001b[43m)\u001b[49m\n\u001b[32m   2450\u001b[39m \u001b[38;5;28;01melse\u001b[39;00m:\n\u001b[32m   2451\u001b[39m     \u001b[38;5;66;03m# update 'upload offset'\u001b[39;00m\n\u001b[32m   2452\u001b[39m     \u001b[38;5;28mself\u001b[39m.offset += \u001b[38;5;28mself\u001b[39m.buffer.tell()\n",
      "\u001b[36mFile \u001b[39m\u001b[32m~/Documents/Real-Time-Stock-Data-Analysis/env/lib/python3.12/site-packages/s3fs/core.py:2475\u001b[39m, in \u001b[36mS3File.commit\u001b[39m\u001b[34m(self)\u001b[39m\n\u001b[32m   2473\u001b[39m     \u001b[38;5;28;01mif\u001b[39;00m \u001b[38;5;28mself\u001b[39m.acl:\n\u001b[32m   2474\u001b[39m         kw[\u001b[33m\"\u001b[39m\u001b[33mACL\u001b[39m\u001b[33m\"\u001b[39m] = \u001b[38;5;28mself\u001b[39m.acl\n\u001b[32m-> \u001b[39m\u001b[32m2475\u001b[39m     write_result = \u001b[38;5;28;43mself\u001b[39;49m\u001b[43m.\u001b[49m\u001b[43m_call_s3\u001b[49m\u001b[43m(\u001b[49m\u001b[33;43m\"\u001b[39;49m\u001b[33;43mput_object\u001b[39;49m\u001b[33;43m\"\u001b[39;49m\u001b[43m,\u001b[49m\u001b[43m \u001b[49m\u001b[43m*\u001b[49m\u001b[43m*\u001b[49m\u001b[43mkw\u001b[49m\u001b[43m,\u001b[49m\u001b[43m \u001b[49m\u001b[43m*\u001b[49m\u001b[43m*\u001b[49m\u001b[43mmatch\u001b[49m\u001b[43m)\u001b[49m\n\u001b[32m   2476\u001b[39m \u001b[38;5;28;01melse\u001b[39;00m:\n\u001b[32m   2477\u001b[39m     \u001b[38;5;28;01mraise\u001b[39;00m \u001b[38;5;167;01mRuntimeError\u001b[39;00m\n",
      "\u001b[36mFile \u001b[39m\u001b[32m~/Documents/Real-Time-Stock-Data-Analysis/env/lib/python3.12/site-packages/s3fs/core.py:2309\u001b[39m, in \u001b[36mS3File._call_s3\u001b[39m\u001b[34m(self, method, *kwarglist, **kwargs)\u001b[39m\n\u001b[32m   2308\u001b[39m \u001b[38;5;28;01mdef\u001b[39;00m\u001b[38;5;250m \u001b[39m\u001b[34m_call_s3\u001b[39m(\u001b[38;5;28mself\u001b[39m, method, *kwarglist, **kwargs):\n\u001b[32m-> \u001b[39m\u001b[32m2309\u001b[39m     \u001b[38;5;28;01mreturn\u001b[39;00m \u001b[38;5;28;43mself\u001b[39;49m\u001b[43m.\u001b[49m\u001b[43mfs\u001b[49m\u001b[43m.\u001b[49m\u001b[43mcall_s3\u001b[49m\u001b[43m(\u001b[49m\u001b[43mmethod\u001b[49m\u001b[43m,\u001b[49m\u001b[43m \u001b[49m\u001b[38;5;28;43mself\u001b[39;49m\u001b[43m.\u001b[49m\u001b[43ms3_additional_kwargs\u001b[49m\u001b[43m,\u001b[49m\u001b[43m \u001b[49m\u001b[43m*\u001b[49m\u001b[43mkwarglist\u001b[49m\u001b[43m,\u001b[49m\u001b[43m \u001b[49m\u001b[43m*\u001b[49m\u001b[43m*\u001b[49m\u001b[43mkwargs\u001b[49m\u001b[43m)\u001b[49m\n",
      "\u001b[36mFile \u001b[39m\u001b[32m~/Documents/Real-Time-Stock-Data-Analysis/env/lib/python3.12/site-packages/fsspec/asyn.py:118\u001b[39m, in \u001b[36msync_wrapper.<locals>.wrapper\u001b[39m\u001b[34m(*args, **kwargs)\u001b[39m\n\u001b[32m    115\u001b[39m \u001b[38;5;129m@functools\u001b[39m.wraps(func)\n\u001b[32m    116\u001b[39m \u001b[38;5;28;01mdef\u001b[39;00m\u001b[38;5;250m \u001b[39m\u001b[34mwrapper\u001b[39m(*args, **kwargs):\n\u001b[32m    117\u001b[39m     \u001b[38;5;28mself\u001b[39m = obj \u001b[38;5;129;01mor\u001b[39;00m args[\u001b[32m0\u001b[39m]\n\u001b[32m--> \u001b[39m\u001b[32m118\u001b[39m     \u001b[38;5;28;01mreturn\u001b[39;00m \u001b[43msync\u001b[49m\u001b[43m(\u001b[49m\u001b[38;5;28;43mself\u001b[39;49m\u001b[43m.\u001b[49m\u001b[43mloop\u001b[49m\u001b[43m,\u001b[49m\u001b[43m \u001b[49m\u001b[43mfunc\u001b[49m\u001b[43m,\u001b[49m\u001b[43m \u001b[49m\u001b[43m*\u001b[49m\u001b[43margs\u001b[49m\u001b[43m,\u001b[49m\u001b[43m \u001b[49m\u001b[43m*\u001b[49m\u001b[43m*\u001b[49m\u001b[43mkwargs\u001b[49m\u001b[43m)\u001b[49m\n",
      "\u001b[36mFile \u001b[39m\u001b[32m~/Documents/Real-Time-Stock-Data-Analysis/env/lib/python3.12/site-packages/fsspec/asyn.py:91\u001b[39m, in \u001b[36msync\u001b[39m\u001b[34m(loop, func, timeout, *args, **kwargs)\u001b[39m\n\u001b[32m     88\u001b[39m asyncio.run_coroutine_threadsafe(_runner(event, coro, result, timeout), loop)\n\u001b[32m     89\u001b[39m \u001b[38;5;28;01mwhile\u001b[39;00m \u001b[38;5;28;01mTrue\u001b[39;00m:\n\u001b[32m     90\u001b[39m     \u001b[38;5;66;03m# this loops allows thread to get interrupted\u001b[39;00m\n\u001b[32m---> \u001b[39m\u001b[32m91\u001b[39m     \u001b[38;5;28;01mif\u001b[39;00m \u001b[43mevent\u001b[49m\u001b[43m.\u001b[49m\u001b[43mwait\u001b[49m\u001b[43m(\u001b[49m\u001b[32;43m1\u001b[39;49m\u001b[43m)\u001b[49m:\n\u001b[32m     92\u001b[39m         \u001b[38;5;28;01mbreak\u001b[39;00m\n\u001b[32m     93\u001b[39m     \u001b[38;5;28;01mif\u001b[39;00m timeout \u001b[38;5;129;01mis\u001b[39;00m \u001b[38;5;129;01mnot\u001b[39;00m \u001b[38;5;28;01mNone\u001b[39;00m:\n",
      "\u001b[36mFile \u001b[39m\u001b[32m/usr/lib/python3.12/threading.py:655\u001b[39m, in \u001b[36mEvent.wait\u001b[39m\u001b[34m(self, timeout)\u001b[39m\n\u001b[32m    653\u001b[39m signaled = \u001b[38;5;28mself\u001b[39m._flag\n\u001b[32m    654\u001b[39m \u001b[38;5;28;01mif\u001b[39;00m \u001b[38;5;129;01mnot\u001b[39;00m signaled:\n\u001b[32m--> \u001b[39m\u001b[32m655\u001b[39m     signaled = \u001b[38;5;28;43mself\u001b[39;49m\u001b[43m.\u001b[49m\u001b[43m_cond\u001b[49m\u001b[43m.\u001b[49m\u001b[43mwait\u001b[49m\u001b[43m(\u001b[49m\u001b[43mtimeout\u001b[49m\u001b[43m)\u001b[49m\n\u001b[32m    656\u001b[39m \u001b[38;5;28;01mreturn\u001b[39;00m signaled\n",
      "\u001b[36mFile \u001b[39m\u001b[32m/usr/lib/python3.12/threading.py:359\u001b[39m, in \u001b[36mCondition.wait\u001b[39m\u001b[34m(self, timeout)\u001b[39m\n\u001b[32m    357\u001b[39m \u001b[38;5;28;01melse\u001b[39;00m:\n\u001b[32m    358\u001b[39m     \u001b[38;5;28;01mif\u001b[39;00m timeout > \u001b[32m0\u001b[39m:\n\u001b[32m--> \u001b[39m\u001b[32m359\u001b[39m         gotit = \u001b[43mwaiter\u001b[49m\u001b[43m.\u001b[49m\u001b[43macquire\u001b[49m\u001b[43m(\u001b[49m\u001b[38;5;28;43;01mTrue\u001b[39;49;00m\u001b[43m,\u001b[49m\u001b[43m \u001b[49m\u001b[43mtimeout\u001b[49m\u001b[43m)\u001b[49m\n\u001b[32m    360\u001b[39m     \u001b[38;5;28;01melse\u001b[39;00m:\n\u001b[32m    361\u001b[39m         gotit = waiter.acquire(\u001b[38;5;28;01mFalse\u001b[39;00m)\n",
      "\u001b[31mKeyboardInterrupt\u001b[39m: "
     ]
    }
   ],
   "source": [
    "# Iterating over the data\n",
    "\n",
    "for count, d in enumerate(consumer):\n",
    "    with s3.open(\"s3://kafka-stock-data-analysis-fyasir/stock_market_{}.json\".format(count), \"w\") as file:\n",
    "        json.dump(d.value, file)"
   ]
  },
  {
   "cell_type": "code",
   "execution_count": null,
   "id": "caaa979f-8574-4388-8dbd-285eb3ba42c3",
   "metadata": {},
   "outputs": [],
   "source": []
  }
 ],
 "metadata": {
  "kernelspec": {
   "display_name": "kafka-data-analysis",
   "language": "python",
   "name": "env"
  },
  "language_info": {
   "codemirror_mode": {
    "name": "ipython",
    "version": 3
   },
   "file_extension": ".py",
   "mimetype": "text/x-python",
   "name": "python",
   "nbconvert_exporter": "python",
   "pygments_lexer": "ipython3",
   "version": "3.12.3"
  }
 },
 "nbformat": 4,
 "nbformat_minor": 5
}
